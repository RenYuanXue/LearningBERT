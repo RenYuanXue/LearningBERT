{
  "nbformat": 4,
  "nbformat_minor": 0,
  "metadata": {
    "colab": {
      "name": "Untitled1.ipynb",
      "provenance": [],
      "toc_visible": true,
      "authorship_tag": "ABX9TyPVzu4b4sGaTBd0Ya4qh7uz",
      "include_colab_link": true
    },
    "kernelspec": {
      "name": "python3",
      "display_name": "Python 3"
    },
    "widgets": {
      "application/vnd.jupyter.widget-state+json": {
        "73545af435494cb1992164a46fc3a590": {
          "model_module": "@jupyter-widgets/controls",
          "model_name": "HBoxModel",
          "state": {
            "_view_name": "HBoxView",
            "_dom_classes": [],
            "_model_name": "HBoxModel",
            "_view_module": "@jupyter-widgets/controls",
            "_model_module_version": "1.5.0",
            "_view_count": null,
            "_view_module_version": "1.5.0",
            "box_style": "",
            "layout": "IPY_MODEL_b376a0909fe24f468b12bb4594106ee4",
            "_model_module": "@jupyter-widgets/controls",
            "children": [
              "IPY_MODEL_6c63633647ec4f4b998091db94ea7753",
              "IPY_MODEL_9070e2b0b6be4b52802a9991b1a502cf"
            ]
          }
        },
        "b376a0909fe24f468b12bb4594106ee4": {
          "model_module": "@jupyter-widgets/base",
          "model_name": "LayoutModel",
          "state": {
            "_view_name": "LayoutView",
            "grid_template_rows": null,
            "right": null,
            "justify_content": null,
            "_view_module": "@jupyter-widgets/base",
            "overflow": null,
            "_model_module_version": "1.2.0",
            "_view_count": null,
            "flex_flow": null,
            "width": null,
            "min_width": null,
            "border": null,
            "align_items": null,
            "bottom": null,
            "_model_module": "@jupyter-widgets/base",
            "top": null,
            "grid_column": null,
            "overflow_y": null,
            "overflow_x": null,
            "grid_auto_flow": null,
            "grid_area": null,
            "grid_template_columns": null,
            "flex": null,
            "_model_name": "LayoutModel",
            "justify_items": null,
            "grid_row": null,
            "max_height": null,
            "align_content": null,
            "visibility": null,
            "align_self": null,
            "height": null,
            "min_height": null,
            "padding": null,
            "grid_auto_rows": null,
            "grid_gap": null,
            "max_width": null,
            "order": null,
            "_view_module_version": "1.2.0",
            "grid_template_areas": null,
            "object_position": null,
            "object_fit": null,
            "grid_auto_columns": null,
            "margin": null,
            "display": null,
            "left": null
          }
        },
        "6c63633647ec4f4b998091db94ea7753": {
          "model_module": "@jupyter-widgets/controls",
          "model_name": "FloatProgressModel",
          "state": {
            "_view_name": "ProgressView",
            "style": "IPY_MODEL_60b0df003a9141c59c47d9de7f1bf978",
            "_dom_classes": [],
            "description": "Downloading: 100%",
            "_model_name": "FloatProgressModel",
            "bar_style": "success",
            "max": 231508,
            "_view_module": "@jupyter-widgets/controls",
            "_model_module_version": "1.5.0",
            "value": 231508,
            "_view_count": null,
            "_view_module_version": "1.5.0",
            "orientation": "horizontal",
            "min": 0,
            "description_tooltip": null,
            "_model_module": "@jupyter-widgets/controls",
            "layout": "IPY_MODEL_c7e9c5bf5f694e2ab210899f306426dd"
          }
        },
        "9070e2b0b6be4b52802a9991b1a502cf": {
          "model_module": "@jupyter-widgets/controls",
          "model_name": "HTMLModel",
          "state": {
            "_view_name": "HTMLView",
            "style": "IPY_MODEL_0b35cf92813a4aa8a5c5cbc58b1d0c6a",
            "_dom_classes": [],
            "description": "",
            "_model_name": "HTMLModel",
            "placeholder": "​",
            "_view_module": "@jupyter-widgets/controls",
            "_model_module_version": "1.5.0",
            "value": " 232k/232k [00:00&lt;00:00, 611kB/s]",
            "_view_count": null,
            "_view_module_version": "1.5.0",
            "description_tooltip": null,
            "_model_module": "@jupyter-widgets/controls",
            "layout": "IPY_MODEL_0ccac84d20114747a41a6b623ff59e4a"
          }
        },
        "60b0df003a9141c59c47d9de7f1bf978": {
          "model_module": "@jupyter-widgets/controls",
          "model_name": "ProgressStyleModel",
          "state": {
            "_view_name": "StyleView",
            "_model_name": "ProgressStyleModel",
            "description_width": "initial",
            "_view_module": "@jupyter-widgets/base",
            "_model_module_version": "1.5.0",
            "_view_count": null,
            "_view_module_version": "1.2.0",
            "bar_color": null,
            "_model_module": "@jupyter-widgets/controls"
          }
        },
        "c7e9c5bf5f694e2ab210899f306426dd": {
          "model_module": "@jupyter-widgets/base",
          "model_name": "LayoutModel",
          "state": {
            "_view_name": "LayoutView",
            "grid_template_rows": null,
            "right": null,
            "justify_content": null,
            "_view_module": "@jupyter-widgets/base",
            "overflow": null,
            "_model_module_version": "1.2.0",
            "_view_count": null,
            "flex_flow": null,
            "width": null,
            "min_width": null,
            "border": null,
            "align_items": null,
            "bottom": null,
            "_model_module": "@jupyter-widgets/base",
            "top": null,
            "grid_column": null,
            "overflow_y": null,
            "overflow_x": null,
            "grid_auto_flow": null,
            "grid_area": null,
            "grid_template_columns": null,
            "flex": null,
            "_model_name": "LayoutModel",
            "justify_items": null,
            "grid_row": null,
            "max_height": null,
            "align_content": null,
            "visibility": null,
            "align_self": null,
            "height": null,
            "min_height": null,
            "padding": null,
            "grid_auto_rows": null,
            "grid_gap": null,
            "max_width": null,
            "order": null,
            "_view_module_version": "1.2.0",
            "grid_template_areas": null,
            "object_position": null,
            "object_fit": null,
            "grid_auto_columns": null,
            "margin": null,
            "display": null,
            "left": null
          }
        },
        "0b35cf92813a4aa8a5c5cbc58b1d0c6a": {
          "model_module": "@jupyter-widgets/controls",
          "model_name": "DescriptionStyleModel",
          "state": {
            "_view_name": "StyleView",
            "_model_name": "DescriptionStyleModel",
            "description_width": "",
            "_view_module": "@jupyter-widgets/base",
            "_model_module_version": "1.5.0",
            "_view_count": null,
            "_view_module_version": "1.2.0",
            "_model_module": "@jupyter-widgets/controls"
          }
        },
        "0ccac84d20114747a41a6b623ff59e4a": {
          "model_module": "@jupyter-widgets/base",
          "model_name": "LayoutModel",
          "state": {
            "_view_name": "LayoutView",
            "grid_template_rows": null,
            "right": null,
            "justify_content": null,
            "_view_module": "@jupyter-widgets/base",
            "overflow": null,
            "_model_module_version": "1.2.0",
            "_view_count": null,
            "flex_flow": null,
            "width": null,
            "min_width": null,
            "border": null,
            "align_items": null,
            "bottom": null,
            "_model_module": "@jupyter-widgets/base",
            "top": null,
            "grid_column": null,
            "overflow_y": null,
            "overflow_x": null,
            "grid_auto_flow": null,
            "grid_area": null,
            "grid_template_columns": null,
            "flex": null,
            "_model_name": "LayoutModel",
            "justify_items": null,
            "grid_row": null,
            "max_height": null,
            "align_content": null,
            "visibility": null,
            "align_self": null,
            "height": null,
            "min_height": null,
            "padding": null,
            "grid_auto_rows": null,
            "grid_gap": null,
            "max_width": null,
            "order": null,
            "_view_module_version": "1.2.0",
            "grid_template_areas": null,
            "object_position": null,
            "object_fit": null,
            "grid_auto_columns": null,
            "margin": null,
            "display": null,
            "left": null
          }
        }
      }
    }
  },
  "cells": [
    {
      "cell_type": "markdown",
      "metadata": {
        "id": "view-in-github",
        "colab_type": "text"
      },
      "source": [
        "<a href=\"https://colab.research.google.com/github/RenYuanXue/LearningBERT/blob/main/Fine%20Tuning%20with%20BERT.ipynb\" target=\"_parent\"><img src=\"https://colab.research.google.com/assets/colab-badge.svg\" alt=\"Open In Colab\"/></a>"
      ]
    },
    {
      "cell_type": "markdown",
      "metadata": {
        "id": "LHYAtRIIwy_4"
      },
      "source": [
        "## Load CoLA Dataset"
      ]
    },
    {
      "cell_type": "markdown",
      "metadata": {
        "id": "d99IYJpixEoX"
      },
      "source": [
        "Get wget package to download the dataset"
      ]
    },
    {
      "cell_type": "code",
      "metadata": {
        "colab": {
          "base_uri": "https://localhost:8080/"
        },
        "id": "xeR11_5Gw1M5",
        "outputId": "2fdd8fc6-ddd3-4b41-9f92-499772d95b8d"
      },
      "source": [
        "!pip install wget"
      ],
      "execution_count": 2,
      "outputs": [
        {
          "output_type": "stream",
          "text": [
            "Collecting wget\n",
            "  Downloading https://files.pythonhosted.org/packages/47/6a/62e288da7bcda82b935ff0c6cfe542970f04e29c756b0e147251b2fb251f/wget-3.2.zip\n",
            "Building wheels for collected packages: wget\n",
            "  Building wheel for wget (setup.py) ... \u001b[?25l\u001b[?25hdone\n",
            "  Created wheel for wget: filename=wget-3.2-cp37-none-any.whl size=9681 sha256=282924960009766d009b0c623b834b22b9773b0a4bd804f63174a64435e6c4e0\n",
            "  Stored in directory: /root/.cache/pip/wheels/40/15/30/7d8f7cea2902b4db79e3fea550d7d7b85ecb27ef992b618f3f\n",
            "Successfully built wget\n",
            "Installing collected packages: wget\n",
            "Successfully installed wget-3.2\n"
          ],
          "name": "stdout"
        }
      ]
    },
    {
      "cell_type": "markdown",
      "metadata": {
        "id": "UUMNb6FNxQO1"
      },
      "source": [
        "Download the zip file using wget"
      ]
    },
    {
      "cell_type": "code",
      "metadata": {
        "colab": {
          "base_uri": "https://localhost:8080/"
        },
        "id": "bm4bvatVw8hQ",
        "outputId": "bb798ee5-6565-459a-9862-9dfee009135f"
      },
      "source": [
        "import wget\r\n",
        "import os\r\n",
        "\r\n",
        "print('Downloading dataset...')\r\n",
        "\r\n",
        "# The url for the dataset zip file.\r\n",
        "url = 'https://nyu-mll.github.io/CoLA/cola_public_1.1.zip'\r\n",
        "\r\n",
        "# Download the file (if we haven't already)\r\n",
        "if not os.path.exists('./cola_public_1.1.zip'):\r\n",
        "  wget.download(url, './cola_public_1.1.zip')"
      ],
      "execution_count": 7,
      "outputs": [
        {
          "output_type": "stream",
          "text": [
            "Downloading dataset...\n"
          ],
          "name": "stdout"
        }
      ]
    },
    {
      "cell_type": "markdown",
      "metadata": {
        "id": "y73UXqHnyZED"
      },
      "source": [
        "Unzip the dataset to file system"
      ]
    },
    {
      "cell_type": "code",
      "metadata": {
        "colab": {
          "base_uri": "https://localhost:8080/"
        },
        "id": "hlaHyyC-yb8v",
        "outputId": "dc664457-7afa-4259-d3ca-b0063a766b6c"
      },
      "source": [
        "# Unzip the dataset (if we haven't done so).\r\n",
        "if not os.path.exists('./cola_public/'):\r\n",
        "  !unzip cola_public_1.1.zip"
      ],
      "execution_count": 8,
      "outputs": [
        {
          "output_type": "stream",
          "text": [
            "Archive:  cola_public_1.1.zip\n",
            "   creating: cola_public/\n",
            "  inflating: cola_public/README      \n",
            "   creating: cola_public/tokenized/\n",
            "  inflating: cola_public/tokenized/in_domain_dev.tsv  \n",
            "  inflating: cola_public/tokenized/in_domain_train.tsv  \n",
            "  inflating: cola_public/tokenized/out_of_domain_dev.tsv  \n",
            "   creating: cola_public/raw/\n",
            "  inflating: cola_public/raw/in_domain_dev.tsv  \n",
            "  inflating: cola_public/raw/in_domain_train.tsv  \n",
            "  inflating: cola_public/raw/out_of_domain_dev.tsv  \n"
          ],
          "name": "stdout"
        }
      ]
    },
    {
      "cell_type": "markdown",
      "metadata": {
        "id": "ZxES8m_YzldW"
      },
      "source": [
        "Load the dataset to pandas dataframe"
      ]
    },
    {
      "cell_type": "code",
      "metadata": {
        "colab": {
          "base_uri": "https://localhost:8080/",
          "height": 212
        },
        "id": "pVOjFg88ym-M",
        "outputId": "a230e0fd-b043-44dc-ef29-6ab58fd2b1ee"
      },
      "source": [
        "import pandas as pd\r\n",
        "\r\n",
        "# Load data to pandas dataframe.\r\n",
        "df = pd.read_csv('./cola_public/raw/in_domain_train.tsv',\r\n",
        "          delimiter = '\\t', header = None,\r\n",
        "          names = ['sentence_source', 'label', 'label_notes', 'sentence'])\r\n",
        "\r\n",
        "# Report number of sentences in the dataframe.\r\n",
        "print('Number of training sentences: {0}'.format(df.shape[0]))\r\n",
        "\r\n",
        "# Display first few rows from the data.\r\n",
        "df.head()"
      ],
      "execution_count": 13,
      "outputs": [
        {
          "output_type": "stream",
          "text": [
            "Number of training sentences: 8551\n"
          ],
          "name": "stdout"
        },
        {
          "output_type": "execute_result",
          "data": {
            "text/html": [
              "<div>\n",
              "<style scoped>\n",
              "    .dataframe tbody tr th:only-of-type {\n",
              "        vertical-align: middle;\n",
              "    }\n",
              "\n",
              "    .dataframe tbody tr th {\n",
              "        vertical-align: top;\n",
              "    }\n",
              "\n",
              "    .dataframe thead th {\n",
              "        text-align: right;\n",
              "    }\n",
              "</style>\n",
              "<table border=\"1\" class=\"dataframe\">\n",
              "  <thead>\n",
              "    <tr style=\"text-align: right;\">\n",
              "      <th></th>\n",
              "      <th>sentence_source</th>\n",
              "      <th>label</th>\n",
              "      <th>label_notes</th>\n",
              "      <th>sentence</th>\n",
              "    </tr>\n",
              "  </thead>\n",
              "  <tbody>\n",
              "    <tr>\n",
              "      <th>0</th>\n",
              "      <td>gj04</td>\n",
              "      <td>1</td>\n",
              "      <td>NaN</td>\n",
              "      <td>Our friends won't buy this analysis, let alone...</td>\n",
              "    </tr>\n",
              "    <tr>\n",
              "      <th>1</th>\n",
              "      <td>gj04</td>\n",
              "      <td>1</td>\n",
              "      <td>NaN</td>\n",
              "      <td>One more pseudo generalization and I'm giving up.</td>\n",
              "    </tr>\n",
              "    <tr>\n",
              "      <th>2</th>\n",
              "      <td>gj04</td>\n",
              "      <td>1</td>\n",
              "      <td>NaN</td>\n",
              "      <td>One more pseudo generalization or I'm giving up.</td>\n",
              "    </tr>\n",
              "    <tr>\n",
              "      <th>3</th>\n",
              "      <td>gj04</td>\n",
              "      <td>1</td>\n",
              "      <td>NaN</td>\n",
              "      <td>The more we study verbs, the crazier they get.</td>\n",
              "    </tr>\n",
              "    <tr>\n",
              "      <th>4</th>\n",
              "      <td>gj04</td>\n",
              "      <td>1</td>\n",
              "      <td>NaN</td>\n",
              "      <td>Day by day the facts are getting murkier.</td>\n",
              "    </tr>\n",
              "  </tbody>\n",
              "</table>\n",
              "</div>"
            ],
            "text/plain": [
              "  sentence_source  ...                                           sentence\n",
              "0            gj04  ...  Our friends won't buy this analysis, let alone...\n",
              "1            gj04  ...  One more pseudo generalization and I'm giving up.\n",
              "2            gj04  ...   One more pseudo generalization or I'm giving up.\n",
              "3            gj04  ...     The more we study verbs, the crazier they get.\n",
              "4            gj04  ...          Day by day the facts are getting murkier.\n",
              "\n",
              "[5 rows x 4 columns]"
            ]
          },
          "metadata": {
            "tags": []
          },
          "execution_count": 13
        }
      ]
    },
    {
      "cell_type": "markdown",
      "metadata": {
        "id": "TLraAF-c0yo_"
      },
      "source": [
        "If the sentence is grammatically correct, it is labelled as 1, otherwise 0."
      ]
    },
    {
      "cell_type": "markdown",
      "metadata": {
        "id": "XKHZJ-xn1Ci6"
      },
      "source": [
        "Extract the sentences and labels used for BERT."
      ]
    },
    {
      "cell_type": "code",
      "metadata": {
        "id": "KZdK--Nbz62v"
      },
      "source": [
        "sentences = df.sentence.values\r\n",
        "labels = df.label.values"
      ],
      "execution_count": 14,
      "outputs": []
    },
    {
      "cell_type": "markdown",
      "metadata": {
        "id": "RVtVRS971PFX"
      },
      "source": [
        "## Tokenization & input formatting"
      ]
    },
    {
      "cell_type": "markdown",
      "metadata": {
        "id": "QawUCnoU27DU"
      },
      "source": [
        "Get transformers library in case don't have it."
      ]
    },
    {
      "cell_type": "code",
      "metadata": {
        "colab": {
          "base_uri": "https://localhost:8080/"
        },
        "id": "2YPB1Y7c3EAe",
        "outputId": "93db9e9a-0dea-4413-af26-01afa80b4555"
      },
      "source": [
        "!pip install transformers"
      ],
      "execution_count": 16,
      "outputs": [
        {
          "output_type": "stream",
          "text": [
            "Collecting transformers\n",
            "\u001b[?25l  Downloading https://files.pythonhosted.org/packages/98/87/ef312eef26f5cecd8b17ae9654cdd8d1fae1eb6dbd87257d6d73c128a4d0/transformers-4.3.2-py3-none-any.whl (1.8MB)\n",
            "\r\u001b[K     |▏                               | 10kB 16.3MB/s eta 0:00:01\r\u001b[K     |▍                               | 20kB 23.4MB/s eta 0:00:01\r\u001b[K     |▌                               | 30kB 16.9MB/s eta 0:00:01\r\u001b[K     |▊                               | 40kB 13.3MB/s eta 0:00:01\r\u001b[K     |█                               | 51kB 14.1MB/s eta 0:00:01\r\u001b[K     |█                               | 61kB 15.4MB/s eta 0:00:01\r\u001b[K     |█▎                              | 71kB 14.5MB/s eta 0:00:01\r\u001b[K     |█▌                              | 81kB 15.1MB/s eta 0:00:01\r\u001b[K     |█▋                              | 92kB 12.5MB/s eta 0:00:01\r\u001b[K     |█▉                              | 102kB 12.8MB/s eta 0:00:01\r\u001b[K     |██                              | 112kB 12.8MB/s eta 0:00:01\r\u001b[K     |██▏                             | 122kB 12.8MB/s eta 0:00:01\r\u001b[K     |██▍                             | 133kB 12.8MB/s eta 0:00:01\r\u001b[K     |██▌                             | 143kB 12.8MB/s eta 0:00:01\r\u001b[K     |██▊                             | 153kB 12.8MB/s eta 0:00:01\r\u001b[K     |███                             | 163kB 12.8MB/s eta 0:00:01\r\u001b[K     |███                             | 174kB 12.8MB/s eta 0:00:01\r\u001b[K     |███▎                            | 184kB 12.8MB/s eta 0:00:01\r\u001b[K     |███▍                            | 194kB 12.8MB/s eta 0:00:01\r\u001b[K     |███▋                            | 204kB 12.8MB/s eta 0:00:01\r\u001b[K     |███▉                            | 215kB 12.8MB/s eta 0:00:01\r\u001b[K     |████                            | 225kB 12.8MB/s eta 0:00:01\r\u001b[K     |████▏                           | 235kB 12.8MB/s eta 0:00:01\r\u001b[K     |████▍                           | 245kB 12.8MB/s eta 0:00:01\r\u001b[K     |████▌                           | 256kB 12.8MB/s eta 0:00:01\r\u001b[K     |████▊                           | 266kB 12.8MB/s eta 0:00:01\r\u001b[K     |████▉                           | 276kB 12.8MB/s eta 0:00:01\r\u001b[K     |█████                           | 286kB 12.8MB/s eta 0:00:01\r\u001b[K     |█████▎                          | 296kB 12.8MB/s eta 0:00:01\r\u001b[K     |█████▍                          | 307kB 12.8MB/s eta 0:00:01\r\u001b[K     |█████▋                          | 317kB 12.8MB/s eta 0:00:01\r\u001b[K     |█████▉                          | 327kB 12.8MB/s eta 0:00:01\r\u001b[K     |██████                          | 337kB 12.8MB/s eta 0:00:01\r\u001b[K     |██████▏                         | 348kB 12.8MB/s eta 0:00:01\r\u001b[K     |██████▎                         | 358kB 12.8MB/s eta 0:00:01\r\u001b[K     |██████▌                         | 368kB 12.8MB/s eta 0:00:01\r\u001b[K     |██████▊                         | 378kB 12.8MB/s eta 0:00:01\r\u001b[K     |██████▉                         | 389kB 12.8MB/s eta 0:00:01\r\u001b[K     |███████                         | 399kB 12.8MB/s eta 0:00:01\r\u001b[K     |███████▎                        | 409kB 12.8MB/s eta 0:00:01\r\u001b[K     |███████▍                        | 419kB 12.8MB/s eta 0:00:01\r\u001b[K     |███████▋                        | 430kB 12.8MB/s eta 0:00:01\r\u001b[K     |███████▉                        | 440kB 12.8MB/s eta 0:00:01\r\u001b[K     |████████                        | 450kB 12.8MB/s eta 0:00:01\r\u001b[K     |████████▏                       | 460kB 12.8MB/s eta 0:00:01\r\u001b[K     |████████▎                       | 471kB 12.8MB/s eta 0:00:01\r\u001b[K     |████████▌                       | 481kB 12.8MB/s eta 0:00:01\r\u001b[K     |████████▊                       | 491kB 12.8MB/s eta 0:00:01\r\u001b[K     |████████▉                       | 501kB 12.8MB/s eta 0:00:01\r\u001b[K     |█████████                       | 512kB 12.8MB/s eta 0:00:01\r\u001b[K     |█████████▎                      | 522kB 12.8MB/s eta 0:00:01\r\u001b[K     |█████████▍                      | 532kB 12.8MB/s eta 0:00:01\r\u001b[K     |█████████▋                      | 542kB 12.8MB/s eta 0:00:01\r\u001b[K     |█████████▊                      | 552kB 12.8MB/s eta 0:00:01\r\u001b[K     |██████████                      | 563kB 12.8MB/s eta 0:00:01\r\u001b[K     |██████████▏                     | 573kB 12.8MB/s eta 0:00:01\r\u001b[K     |██████████▎                     | 583kB 12.8MB/s eta 0:00:01\r\u001b[K     |██████████▌                     | 593kB 12.8MB/s eta 0:00:01\r\u001b[K     |██████████▊                     | 604kB 12.8MB/s eta 0:00:01\r\u001b[K     |██████████▉                     | 614kB 12.8MB/s eta 0:00:01\r\u001b[K     |███████████                     | 624kB 12.8MB/s eta 0:00:01\r\u001b[K     |███████████▏                    | 634kB 12.8MB/s eta 0:00:01\r\u001b[K     |███████████▍                    | 645kB 12.8MB/s eta 0:00:01\r\u001b[K     |███████████▋                    | 655kB 12.8MB/s eta 0:00:01\r\u001b[K     |███████████▊                    | 665kB 12.8MB/s eta 0:00:01\r\u001b[K     |████████████                    | 675kB 12.8MB/s eta 0:00:01\r\u001b[K     |████████████▏                   | 686kB 12.8MB/s eta 0:00:01\r\u001b[K     |████████████▎                   | 696kB 12.8MB/s eta 0:00:01\r\u001b[K     |████████████▌                   | 706kB 12.8MB/s eta 0:00:01\r\u001b[K     |████████████▋                   | 716kB 12.8MB/s eta 0:00:01\r\u001b[K     |████████████▉                   | 727kB 12.8MB/s eta 0:00:01\r\u001b[K     |█████████████                   | 737kB 12.8MB/s eta 0:00:01\r\u001b[K     |█████████████▏                  | 747kB 12.8MB/s eta 0:00:01\r\u001b[K     |█████████████▍                  | 757kB 12.8MB/s eta 0:00:01\r\u001b[K     |█████████████▋                  | 768kB 12.8MB/s eta 0:00:01\r\u001b[K     |█████████████▊                  | 778kB 12.8MB/s eta 0:00:01\r\u001b[K     |██████████████                  | 788kB 12.8MB/s eta 0:00:01\r\u001b[K     |██████████████▏                 | 798kB 12.8MB/s eta 0:00:01\r\u001b[K     |██████████████▎                 | 808kB 12.8MB/s eta 0:00:01\r\u001b[K     |██████████████▌                 | 819kB 12.8MB/s eta 0:00:01\r\u001b[K     |██████████████▋                 | 829kB 12.8MB/s eta 0:00:01\r\u001b[K     |██████████████▉                 | 839kB 12.8MB/s eta 0:00:01\r\u001b[K     |███████████████                 | 849kB 12.8MB/s eta 0:00:01\r\u001b[K     |███████████████▏                | 860kB 12.8MB/s eta 0:00:01\r\u001b[K     |███████████████▍                | 870kB 12.8MB/s eta 0:00:01\r\u001b[K     |███████████████▋                | 880kB 12.8MB/s eta 0:00:01\r\u001b[K     |███████████████▊                | 890kB 12.8MB/s eta 0:00:01\r\u001b[K     |████████████████                | 901kB 12.8MB/s eta 0:00:01\r\u001b[K     |████████████████                | 911kB 12.8MB/s eta 0:00:01\r\u001b[K     |████████████████▎               | 921kB 12.8MB/s eta 0:00:01\r\u001b[K     |████████████████▌               | 931kB 12.8MB/s eta 0:00:01\r\u001b[K     |████████████████▋               | 942kB 12.8MB/s eta 0:00:01\r\u001b[K     |████████████████▉               | 952kB 12.8MB/s eta 0:00:01\r\u001b[K     |█████████████████               | 962kB 12.8MB/s eta 0:00:01\r\u001b[K     |█████████████████▏              | 972kB 12.8MB/s eta 0:00:01\r\u001b[K     |█████████████████▍              | 983kB 12.8MB/s eta 0:00:01\r\u001b[K     |█████████████████▌              | 993kB 12.8MB/s eta 0:00:01\r\u001b[K     |█████████████████▊              | 1.0MB 12.8MB/s eta 0:00:01\r\u001b[K     |██████████████████              | 1.0MB 12.8MB/s eta 0:00:01\r\u001b[K     |██████████████████              | 1.0MB 12.8MB/s eta 0:00:01\r\u001b[K     |██████████████████▎             | 1.0MB 12.8MB/s eta 0:00:01\r\u001b[K     |██████████████████▌             | 1.0MB 12.8MB/s eta 0:00:01\r\u001b[K     |██████████████████▋             | 1.1MB 12.8MB/s eta 0:00:01\r\u001b[K     |██████████████████▉             | 1.1MB 12.8MB/s eta 0:00:01\r\u001b[K     |███████████████████             | 1.1MB 12.8MB/s eta 0:00:01\r\u001b[K     |███████████████████▏            | 1.1MB 12.8MB/s eta 0:00:01\r\u001b[K     |███████████████████▍            | 1.1MB 12.8MB/s eta 0:00:01\r\u001b[K     |███████████████████▌            | 1.1MB 12.8MB/s eta 0:00:01\r\u001b[K     |███████████████████▊            | 1.1MB 12.8MB/s eta 0:00:01\r\u001b[K     |████████████████████            | 1.1MB 12.8MB/s eta 0:00:01\r\u001b[K     |████████████████████            | 1.1MB 12.8MB/s eta 0:00:01\r\u001b[K     |████████████████████▎           | 1.1MB 12.8MB/s eta 0:00:01\r\u001b[K     |████████████████████▌           | 1.2MB 12.8MB/s eta 0:00:01\r\u001b[K     |████████████████████▋           | 1.2MB 12.8MB/s eta 0:00:01\r\u001b[K     |████████████████████▉           | 1.2MB 12.8MB/s eta 0:00:01\r\u001b[K     |█████████████████████           | 1.2MB 12.8MB/s eta 0:00:01\r\u001b[K     |█████████████████████▏          | 1.2MB 12.8MB/s eta 0:00:01\r\u001b[K     |█████████████████████▍          | 1.2MB 12.8MB/s eta 0:00:01\r\u001b[K     |█████████████████████▌          | 1.2MB 12.8MB/s eta 0:00:01\r\u001b[K     |█████████████████████▊          | 1.2MB 12.8MB/s eta 0:00:01\r\u001b[K     |██████████████████████          | 1.2MB 12.8MB/s eta 0:00:01\r\u001b[K     |██████████████████████          | 1.2MB 12.8MB/s eta 0:00:01\r\u001b[K     |██████████████████████▎         | 1.3MB 12.8MB/s eta 0:00:01\r\u001b[K     |██████████████████████▍         | 1.3MB 12.8MB/s eta 0:00:01\r\u001b[K     |██████████████████████▋         | 1.3MB 12.8MB/s eta 0:00:01\r\u001b[K     |██████████████████████▉         | 1.3MB 12.8MB/s eta 0:00:01\r\u001b[K     |███████████████████████         | 1.3MB 12.8MB/s eta 0:00:01\r\u001b[K     |███████████████████████▏        | 1.3MB 12.8MB/s eta 0:00:01\r\u001b[K     |███████████████████████▍        | 1.3MB 12.8MB/s eta 0:00:01\r\u001b[K     |███████████████████████▌        | 1.3MB 12.8MB/s eta 0:00:01\r\u001b[K     |███████████████████████▊        | 1.3MB 12.8MB/s eta 0:00:01\r\u001b[K     |███████████████████████▉        | 1.4MB 12.8MB/s eta 0:00:01\r\u001b[K     |████████████████████████        | 1.4MB 12.8MB/s eta 0:00:01\r\u001b[K     |████████████████████████▎       | 1.4MB 12.8MB/s eta 0:00:01\r\u001b[K     |████████████████████████▍       | 1.4MB 12.8MB/s eta 0:00:01\r\u001b[K     |████████████████████████▋       | 1.4MB 12.8MB/s eta 0:00:01\r\u001b[K     |████████████████████████▉       | 1.4MB 12.8MB/s eta 0:00:01\r\u001b[K     |█████████████████████████       | 1.4MB 12.8MB/s eta 0:00:01\r\u001b[K     |█████████████████████████▏      | 1.4MB 12.8MB/s eta 0:00:01\r\u001b[K     |█████████████████████████▎      | 1.4MB 12.8MB/s eta 0:00:01\r\u001b[K     |█████████████████████████▌      | 1.4MB 12.8MB/s eta 0:00:01\r\u001b[K     |█████████████████████████▊      | 1.5MB 12.8MB/s eta 0:00:01\r\u001b[K     |█████████████████████████▉      | 1.5MB 12.8MB/s eta 0:00:01\r\u001b[K     |██████████████████████████      | 1.5MB 12.8MB/s eta 0:00:01\r\u001b[K     |██████████████████████████▎     | 1.5MB 12.8MB/s eta 0:00:01\r\u001b[K     |██████████████████████████▍     | 1.5MB 12.8MB/s eta 0:00:01\r\u001b[K     |██████████████████████████▋     | 1.5MB 12.8MB/s eta 0:00:01\r\u001b[K     |██████████████████████████▉     | 1.5MB 12.8MB/s eta 0:00:01\r\u001b[K     |███████████████████████████     | 1.5MB 12.8MB/s eta 0:00:01\r\u001b[K     |███████████████████████████▏    | 1.5MB 12.8MB/s eta 0:00:01\r\u001b[K     |███████████████████████████▎    | 1.5MB 12.8MB/s eta 0:00:01\r\u001b[K     |███████████████████████████▌    | 1.6MB 12.8MB/s eta 0:00:01\r\u001b[K     |███████████████████████████▊    | 1.6MB 12.8MB/s eta 0:00:01\r\u001b[K     |███████████████████████████▉    | 1.6MB 12.8MB/s eta 0:00:01\r\u001b[K     |████████████████████████████    | 1.6MB 12.8MB/s eta 0:00:01\r\u001b[K     |████████████████████████████▎   | 1.6MB 12.8MB/s eta 0:00:01\r\u001b[K     |████████████████████████████▍   | 1.6MB 12.8MB/s eta 0:00:01\r\u001b[K     |████████████████████████████▋   | 1.6MB 12.8MB/s eta 0:00:01\r\u001b[K     |████████████████████████████▊   | 1.6MB 12.8MB/s eta 0:00:01\r\u001b[K     |█████████████████████████████   | 1.6MB 12.8MB/s eta 0:00:01\r\u001b[K     |█████████████████████████████▏  | 1.6MB 12.8MB/s eta 0:00:01\r\u001b[K     |█████████████████████████████▎  | 1.7MB 12.8MB/s eta 0:00:01\r\u001b[K     |█████████████████████████████▌  | 1.7MB 12.8MB/s eta 0:00:01\r\u001b[K     |█████████████████████████████▊  | 1.7MB 12.8MB/s eta 0:00:01\r\u001b[K     |█████████████████████████████▉  | 1.7MB 12.8MB/s eta 0:00:01\r\u001b[K     |██████████████████████████████  | 1.7MB 12.8MB/s eta 0:00:01\r\u001b[K     |██████████████████████████████▏ | 1.7MB 12.8MB/s eta 0:00:01\r\u001b[K     |██████████████████████████████▍ | 1.7MB 12.8MB/s eta 0:00:01\r\u001b[K     |██████████████████████████████▋ | 1.7MB 12.8MB/s eta 0:00:01\r\u001b[K     |██████████████████████████████▊ | 1.7MB 12.8MB/s eta 0:00:01\r\u001b[K     |███████████████████████████████ | 1.8MB 12.8MB/s eta 0:00:01\r\u001b[K     |███████████████████████████████▏| 1.8MB 12.8MB/s eta 0:00:01\r\u001b[K     |███████████████████████████████▎| 1.8MB 12.8MB/s eta 0:00:01\r\u001b[K     |███████████████████████████████▌| 1.8MB 12.8MB/s eta 0:00:01\r\u001b[K     |███████████████████████████████▋| 1.8MB 12.8MB/s eta 0:00:01\r\u001b[K     |███████████████████████████████▉| 1.8MB 12.8MB/s eta 0:00:01\r\u001b[K     |████████████████████████████████| 1.8MB 12.8MB/s \n",
            "\u001b[?25hRequirement already satisfied: requests in /usr/local/lib/python3.7/dist-packages (from transformers) (2.23.0)\n",
            "Requirement already satisfied: importlib-metadata; python_version < \"3.8\" in /usr/local/lib/python3.7/dist-packages (from transformers) (3.4.0)\n",
            "Requirement already satisfied: filelock in /usr/local/lib/python3.7/dist-packages (from transformers) (3.0.12)\n",
            "Collecting tokenizers<0.11,>=0.10.1\n",
            "\u001b[?25l  Downloading https://files.pythonhosted.org/packages/71/23/2ddc317b2121117bf34dd00f5b0de194158f2a44ee2bf5e47c7166878a97/tokenizers-0.10.1-cp37-cp37m-manylinux2010_x86_64.whl (3.2MB)\n",
            "\u001b[K     |████████████████████████████████| 3.2MB 59.9MB/s \n",
            "\u001b[?25hRequirement already satisfied: regex!=2019.12.17 in /usr/local/lib/python3.7/dist-packages (from transformers) (2019.12.20)\n",
            "Requirement already satisfied: tqdm>=4.27 in /usr/local/lib/python3.7/dist-packages (from transformers) (4.41.1)\n",
            "Requirement already satisfied: packaging in /usr/local/lib/python3.7/dist-packages (from transformers) (20.9)\n",
            "Collecting sacremoses\n",
            "\u001b[?25l  Downloading https://files.pythonhosted.org/packages/7d/34/09d19aff26edcc8eb2a01bed8e98f13a1537005d31e95233fd48216eed10/sacremoses-0.0.43.tar.gz (883kB)\n",
            "\u001b[K     |████████████████████████████████| 890kB 38.9MB/s \n",
            "\u001b[?25hRequirement already satisfied: numpy>=1.17 in /usr/local/lib/python3.7/dist-packages (from transformers) (1.19.5)\n",
            "Requirement already satisfied: idna<3,>=2.5 in /usr/local/lib/python3.7/dist-packages (from requests->transformers) (2.10)\n",
            "Requirement already satisfied: chardet<4,>=3.0.2 in /usr/local/lib/python3.7/dist-packages (from requests->transformers) (3.0.4)\n",
            "Requirement already satisfied: urllib3!=1.25.0,!=1.25.1,<1.26,>=1.21.1 in /usr/local/lib/python3.7/dist-packages (from requests->transformers) (1.24.3)\n",
            "Requirement already satisfied: certifi>=2017.4.17 in /usr/local/lib/python3.7/dist-packages (from requests->transformers) (2020.12.5)\n",
            "Requirement already satisfied: zipp>=0.5 in /usr/local/lib/python3.7/dist-packages (from importlib-metadata; python_version < \"3.8\"->transformers) (3.4.0)\n",
            "Requirement already satisfied: typing-extensions>=3.6.4; python_version < \"3.8\" in /usr/local/lib/python3.7/dist-packages (from importlib-metadata; python_version < \"3.8\"->transformers) (3.7.4.3)\n",
            "Requirement already satisfied: pyparsing>=2.0.2 in /usr/local/lib/python3.7/dist-packages (from packaging->transformers) (2.4.7)\n",
            "Requirement already satisfied: six in /usr/local/lib/python3.7/dist-packages (from sacremoses->transformers) (1.15.0)\n",
            "Requirement already satisfied: click in /usr/local/lib/python3.7/dist-packages (from sacremoses->transformers) (7.1.2)\n",
            "Requirement already satisfied: joblib in /usr/local/lib/python3.7/dist-packages (from sacremoses->transformers) (1.0.1)\n",
            "Building wheels for collected packages: sacremoses\n",
            "  Building wheel for sacremoses (setup.py) ... \u001b[?25l\u001b[?25hdone\n",
            "  Created wheel for sacremoses: filename=sacremoses-0.0.43-cp37-none-any.whl size=893262 sha256=de2ff30c8ccc1ef0427455e67ebea431eb573cee72e34e17243dec0702477dce\n",
            "  Stored in directory: /root/.cache/pip/wheels/29/3c/fd/7ce5c3f0666dab31a50123635e6fb5e19ceb42ce38d4e58f45\n",
            "Successfully built sacremoses\n",
            "Installing collected packages: tokenizers, sacremoses, transformers\n",
            "Successfully installed sacremoses-0.0.43 tokenizers-0.10.1 transformers-4.3.2\n"
          ],
          "name": "stdout"
        }
      ]
    },
    {
      "cell_type": "markdown",
      "metadata": {
        "id": "t7pki19Z2twm"
      },
      "source": [
        "First, we need to load the BERT tokenizer."
      ]
    },
    {
      "cell_type": "code",
      "metadata": {
        "colab": {
          "base_uri": "https://localhost:8080/",
          "height": 66,
          "referenced_widgets": [
            "73545af435494cb1992164a46fc3a590",
            "b376a0909fe24f468b12bb4594106ee4",
            "6c63633647ec4f4b998091db94ea7753",
            "9070e2b0b6be4b52802a9991b1a502cf",
            "60b0df003a9141c59c47d9de7f1bf978",
            "c7e9c5bf5f694e2ab210899f306426dd",
            "0b35cf92813a4aa8a5c5cbc58b1d0c6a",
            "0ccac84d20114747a41a6b623ff59e4a"
          ]
        },
        "id": "fng1CMjx1KtD",
        "outputId": "665855ca-7221-4403-f1b8-9b2da6a89d6d"
      },
      "source": [
        "from transformers import BertTokenizer\r\n",
        "\r\n",
        "tokenizer = BertTokenizer.from_pretrained('bert-base-uncased')"
      ],
      "execution_count": 17,
      "outputs": [
        {
          "output_type": "display_data",
          "data": {
            "application/vnd.jupyter.widget-view+json": {
              "model_id": "73545af435494cb1992164a46fc3a590",
              "version_minor": 0,
              "version_major": 2
            },
            "text/plain": [
              "HBox(children=(FloatProgress(value=0.0, description='Downloading', max=231508.0, style=ProgressStyle(descripti…"
            ]
          },
          "metadata": {
            "tags": []
          }
        },
        {
          "output_type": "stream",
          "text": [
            "\n"
          ],
          "name": "stdout"
        }
      ]
    },
    {
      "cell_type": "markdown",
      "metadata": {
        "id": "9CjxxPCq3LxD"
      },
      "source": [
        "Apply the tokenizer to our input sentences."
      ]
    },
    {
      "cell_type": "code",
      "metadata": {
        "colab": {
          "base_uri": "https://localhost:8080/"
        },
        "id": "oyUb0KMO3RWq",
        "outputId": "82d7d9fa-ab98-4a4f-f1bd-1d8223d90723"
      },
      "source": [
        "# Print original sentence.\r\n",
        "print('Original: ', sentences[0])\r\n",
        "\r\n",
        "# Print splitted sentences as tokens.\r\n",
        "print('Tokenized: ', tokenizer.tokenize(sentences[0]))\r\n",
        "\r\n",
        "# Print sentences mapped to token ids.\r\n",
        "print('Token IDs: ', tokenizer.convert_tokens_to_ids(tokenizer.tokenize(sentences[0])))"
      ],
      "execution_count": 18,
      "outputs": [
        {
          "output_type": "stream",
          "text": [
            "Original:  Our friends won't buy this analysis, let alone the next one we propose.\n",
            "Tokenized:  ['our', 'friends', 'won', \"'\", 't', 'buy', 'this', 'analysis', ',', 'let', 'alone', 'the', 'next', 'one', 'we', 'propose', '.']\n",
            "Token IDs:  [2256, 2814, 2180, 1005, 1056, 4965, 2023, 4106, 1010, 2292, 2894, 1996, 2279, 2028, 2057, 16599, 1012]\n"
          ],
          "name": "stdout"
        }
      ]
    },
    {
      "cell_type": "code",
      "metadata": {
        "id": "PTgVWRGJ36t-"
      },
      "source": [
        ""
      ],
      "execution_count": null,
      "outputs": []
    }
  ]
}